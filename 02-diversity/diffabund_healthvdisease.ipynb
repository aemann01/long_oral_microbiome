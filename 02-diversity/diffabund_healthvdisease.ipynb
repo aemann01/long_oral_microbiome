{
 "cells": [
  {
   "cell_type": "code",
   "execution_count": 1,
   "id": "ac801800-849c-4e2e-8ce7-57681761cba4",
   "metadata": {
    "tags": []
   },
   "outputs": [
    {
     "name": "stderr",
     "output_type": "stream",
     "text": [
      "Warning message:\n",
      "“package ‘magrittr’ was built under R version 4.1.3”\n"
     ]
    }
   ],
   "source": [
    "library(phyloseq, verbose=FALSE)\n",
    "library(corncob, verbose=FALSE)\n",
    "library(magrittr, verbose=FALSE)\n",
    "library(ggplot2, verbose=FALSE)"
   ]
  },
  {
   "cell_type": "code",
   "execution_count": 2,
   "id": "bdd797c4-2440-4b32-8b8d-ddf621490c45",
   "metadata": {
    "tags": []
   },
   "outputs": [
    {
     "data": {
      "text/plain": [
       "phyloseq-class experiment-level object\n",
       "otu_table()   OTU Table:         [ 14111 taxa and 1960 samples ]\n",
       "sample_data() Sample Data:       [ 1960 samples by 26 sample variables ]\n",
       "tax_table()   Taxonomy Table:    [ 14111 taxa by 8 taxonomic ranks ]\n",
       "phy_tree()    Phylogenetic Tree: [ 14111 tips and 14109 internal nodes ]"
      ]
     },
     "metadata": {},
     "output_type": "display_data"
    }
   ],
   "source": [
    "load(\"../02-diversity/master_phyloseq.RData\")\n",
    "ps.dat\n",
    "# head(sample_data(ps.dat))"
   ]
  },
  {
   "cell_type": "code",
   "execution_count": null,
   "id": "0a357193-f578-4b23-9127-826800d4f27e",
   "metadata": {
    "tags": []
   },
   "outputs": [
    {
     "data": {
      "text/plain": [
       "phyloseq-class experiment-level object\n",
       "otu_table()   OTU Table:         [ 628 taxa and 1960 samples ]\n",
       "sample_data() Sample Data:       [ 1960 samples by 26 sample variables ]\n",
       "tax_table()   Taxonomy Table:    [ 628 taxa by 8 taxonomic ranks ]\n",
       "phy_tree()    Phylogenetic Tree: [ 628 tips and 627 internal nodes ]"
      ]
     },
     "metadata": {},
     "output_type": "display_data"
    }
   ],
   "source": [
    "# head(tax_table(ps.dat))\n",
    "ps.dat.glom <- ps.dat %>%\n",
    "                tax_glom(\"V8\")\n",
    "ps.dat.glom\n",
    "# differential abundance analysis \n",
    "set.seed(234)\n",
    "da_analysis <- differentialTest(formula = ~ aliquot_type,\n",
    "                               phi.formula = ~ aliquot_type,\n",
    "                               formula_null = ~ 1,\n",
    "                               phi.formula_null = ~ aliquot_type,\n",
    "                               test = \"Wald\",\n",
    "                               boot = FALSE,\n",
    "                               data = ps.dat.glom,\n",
    "                               fdr_cutoff = 0.05)"
   ]
  },
  {
   "cell_type": "code",
   "execution_count": null,
   "id": "6d3764de-e180-4724-8fe2-fe9529a6be12",
   "metadata": {},
   "outputs": [],
   "source": [
    "level <- c(\"V8\")\n",
    "x <- da_analysis\n",
    "\n",
    "signif_taxa <- otu_to_taxonomy(x$significant_taxa, x$data, level = level)\n",
    "signif_taxa <- gsub(\"_\", \" \", signif_taxa) # NOTE: ASV label no longer informative after glom\n",
    "signif_taxa\n",
    "var_per_mod <- length(x$restrictions_DA) + length(x$restrictions_DV)\n",
    "total_var_count <- length(signif_taxa) * var_per_mod\n",
    "# initialize empty dataframe\n",
    "df <- as.data.frame(matrix(NA, nrow = total_var_count, ncol = 5))\n",
    "colnames(df) <- c(\"x\", \"xmin\", \"xmax\", \"taxa\", \"variable\")\n",
    "\n",
    "qval <- stats::qnorm(.975)\n",
    "restricts_mu <- attr(x$restrictions_DA, \"index\")\n",
    "restricts_phi <- attr(x$restrictions_DV, \"index\")\n",
    "\n",
    "# loop through models to populate dataframe\n",
    "count <- 1\n",
    "for (i in 1:length(x$significant_models)) {\n",
    "  # Below from print_summary_bbdml, just to get coefficient names\n",
    "  tmp <- x$significant_models[[i]]\n",
    "  coefs.mu <- tmp$coefficients[1:tmp$np.mu,, drop = FALSE]\n",
    "  rownames(coefs.mu) <- paste0(substring(rownames(coefs.mu), 4), \" Differential Abundance\")\n",
    "  coefs.mu <- coefs.mu[restricts_mu,, drop = FALSE]\n",
    "\n",
    "  coefs.phi <- tmp$coefficients[(tmp$np.mu + 1):nrow(tmp$coefficients),, drop = FALSE]\n",
    "  rownames(coefs.phi) <- paste0(substring(rownames(coefs.phi), 5), \" Differential Variability\")\n",
    "  coefs.phi <- coefs.phi[restricts_phi - tmp$np.mu,, drop = FALSE]\n",
    "\n",
    "  coefs <- rbind(coefs.mu, coefs.phi)\n",
    "  for (j in 1:var_per_mod) {\n",
    "    df[count, 1:3] <- c(coefs[j, 1], coefs[j, 1] - qval * coefs[j, 2],\n",
    "                      coefs[j, 1] + qval * coefs[j, 2])\n",
    "    df[count, 4:5] <- c(signif_taxa[i], rownames(coefs)[j])\n",
    "    count <- count + 1\n",
    "    }\n",
    "}\n",
    "\n",
    "head(df)\n",
    "ggplot(df, aes(x = x, y = taxa)) +\n",
    "  geom_vline(xintercept = 0, color = \"gray50\", lty = \"dashed\",\n",
    "                          alpha = 0.75, lwd = 1) +\n",
    "  geom_point() +\n",
    "  geom_errorbarh(aes(xmin = xmin, xmax = xmax, colour = xmin<=0 & xmax <= 0| xmin>=0 & xmax >= 0), height = .3) +\n",
    "  theme_bw() +\n",
    "  facet_wrap(~variable, scales = \"free_x\", nrow = 1) +\n",
    "  labs(title = \"\", x = \"\", y = \"Taxa\") +\n",
    "  scale_y_discrete(limits = rev(df$taxa)) +\n",
    "  scale_x_continuous(breaks = scales::pretty_breaks(n = 5)) +\n",
    "  theme(axis.text.x = element_text(angle = 45, hjust = 1), legend.position=\"none\") # turned off legend"
   ]
  },
  {
   "cell_type": "code",
   "execution_count": null,
   "id": "e6197257-62e9-4bdf-a66c-48541aea1ed2",
   "metadata": {},
   "outputs": [],
   "source": [
    "# just H-CF versus D-CD\n",
    "ps.dat.sub <- subset_samples(ps.dat.glom, aliquot_type == \"D-CD\" | aliquot_type == \"H-CF\")\n",
    "da_analysis <- differentialTest(formula = ~ aliquot_type,\n",
    "                               phi.formula = ~ aliquot_type,\n",
    "                               formula_null = ~ 1,\n",
    "                               phi.formula_null = ~ aliquot_type,\n",
    "                               test = \"Wald\",\n",
    "                               boot = FALSE,\n",
    "                               data = ps.dat.sub,\n",
    "                               fdr_cutoff = 0.05)"
   ]
  },
  {
   "cell_type": "code",
   "execution_count": null,
   "id": "54c7d525-19ac-492d-bea2-f7aedc2642f5",
   "metadata": {},
   "outputs": [],
   "source": [
    "# plot\n",
    "level <- c(\"V8\")\n",
    "x <- da_analysis\n",
    "\n",
    "signif_taxa <- otu_to_taxonomy(x$significant_taxa, x$data, level = level)\n",
    "signif_taxa <- gsub(\"_\", \" \", signif_taxa) # NOTE: ASV label no longer informative after glom\n",
    "signif_taxa\n",
    "var_per_mod <- length(x$restrictions_DA) + length(x$restrictions_DV)\n",
    "total_var_count <- length(signif_taxa) * var_per_mod\n",
    "# initialize empty dataframe\n",
    "df <- as.data.frame(matrix(NA, nrow = total_var_count, ncol = 5))\n",
    "colnames(df) <- c(\"x\", \"xmin\", \"xmax\", \"taxa\", \"variable\")\n",
    "\n",
    "qval <- stats::qnorm(.975)\n",
    "restricts_mu <- attr(x$restrictions_DA, \"index\")\n",
    "restricts_phi <- attr(x$restrictions_DV, \"index\")\n",
    "\n",
    "# loop through models to populate dataframe\n",
    "count <- 1\n",
    "for (i in 1:length(x$significant_models)) {\n",
    "  # Below from print_summary_bbdml, just to get coefficient names\n",
    "  tmp <- x$significant_models[[i]]\n",
    "  coefs.mu <- tmp$coefficients[1:tmp$np.mu,, drop = FALSE]\n",
    "  rownames(coefs.mu) <- paste0(substring(rownames(coefs.mu), 4), \" Differential Abundance\")\n",
    "  coefs.mu <- coefs.mu[restricts_mu,, drop = FALSE]\n",
    "\n",
    "  coefs.phi <- tmp$coefficients[(tmp$np.mu + 1):nrow(tmp$coefficients),, drop = FALSE]\n",
    "  rownames(coefs.phi) <- paste0(substring(rownames(coefs.phi), 5), \" Differential Variability\")\n",
    "  coefs.phi <- coefs.phi[restricts_phi - tmp$np.mu,, drop = FALSE]\n",
    "\n",
    "  coefs <- rbind(coefs.mu, coefs.phi)\n",
    "  for (j in 1:var_per_mod) {\n",
    "    df[count, 1:3] <- c(coefs[j, 1], coefs[j, 1] - qval * coefs[j, 2],\n",
    "                      coefs[j, 1] + qval * coefs[j, 2])\n",
    "    df[count, 4:5] <- c(signif_taxa[i], rownames(coefs)[j])\n",
    "    count <- count + 1\n",
    "    }\n",
    "}\n",
    "\n",
    "head(df)\n",
    "ggplot(df, aes(x = x, y = taxa)) +\n",
    "  geom_vline(xintercept = 0, color = \"gray50\", lty = \"dashed\",\n",
    "                          alpha = 0.75, lwd = 1) +\n",
    "  geom_point() +\n",
    "  geom_errorbarh(aes(xmin = xmin, xmax = xmax, colour = xmin<=0 & xmax <= 0| xmin>=0 & xmax >= 0), height = .3) +\n",
    "  theme_bw() +\n",
    "  facet_wrap(~variable, scales = \"free_x\", nrow = 1) +\n",
    "  labs(title = \"\", x = \"\", y = \"Taxa\") +\n",
    "  scale_y_discrete(limits = rev(df$taxa)) +\n",
    "  scale_x_continuous(breaks = scales::pretty_breaks(n = 5)) +\n",
    "  theme(axis.text.x = element_text(angle = 45, hjust = 1), legend.position=\"none\") # turned off legend"
   ]
  },
  {
   "cell_type": "code",
   "execution_count": null,
   "id": "98688ee5-3a21-44c3-bf49-c787997c8eb3",
   "metadata": {},
   "outputs": [],
   "source": [
    "pdf(\"img/corncob_hcf_v_dcd.pdf\")\n",
    "ggplot(df, aes(x = x, y = taxa)) +\n",
    "  geom_vline(xintercept = 0, color = \"gray50\", lty = \"dashed\",\n",
    "                          alpha = 0.75, lwd = 1) +\n",
    "  geom_point() +\n",
    "  geom_errorbarh(aes(xmin = xmin, xmax = xmax, colour = xmin<=0 & xmax <= 0| xmin>=0 & xmax >= 0), height = .3) +\n",
    "  theme_bw() +\n",
    "  facet_wrap(~variable, scales = \"free_x\", nrow = 1) +\n",
    "  labs(title = \"\", x = \"\", y = \"Taxa\") +\n",
    "  scale_y_discrete(limits = rev(df$taxa)) +\n",
    "  scale_x_continuous(breaks = scales::pretty_breaks(n = 5)) +\n",
    "  theme(axis.text.x = element_text(angle = 45, hjust = 1), legend.position=\"none\") # turned off legend\n",
    "dev.off()"
   ]
  },
  {
   "cell_type": "code",
   "execution_count": null,
   "id": "87f70c71-5abd-4e4e-b85f-00f02f6a760c",
   "metadata": {},
   "outputs": [],
   "source": [
    "# try doing coda balance analysis with the data at ASV level\n",
    "# collapse data to roughly species level to minimize high sparsity\n",
    "# temp <- tax_glom(ps.dat, taxrank=rank_names(ps.dat)[7])"
   ]
  },
  {
   "cell_type": "code",
   "execution_count": null,
   "id": "fbbd4da9-9953-475e-bcf8-993a290c26ec",
   "metadata": {},
   "outputs": [],
   "source": [
    "# save copy to reduce time on previous command\n",
    "# glom <- temp\n",
    "# remove any taxa with fewer than 10 counts and in at least 5% of samples post merging \n",
    "glom <- filter_taxa(ps.dat, function(x) sum(x > 10) > (0.05*length(x)), TRUE)\n",
    "# only include taxa that are health or disease \n",
    "glom <- subset_samples(glom, aliquot_type == \"D-CD\" | aliquot_type == \"H-CF\")\n",
    "# pull data\n",
    "dat <- t(as.data.frame(otu_table(glom)))\n",
    "map <- as.data.frame(as.matrix(sample_data(glom))) # have to coerce to data frame\n",
    "map <- tibble::rownames_to_column(map) # retain rownames for downstream processing"
   ]
  },
  {
   "cell_type": "code",
   "execution_count": null,
   "id": "9605b090-361b-482f-93d4-d91c2f4babc2",
   "metadata": {},
   "outputs": [],
   "source": [
    "# get corresponding taxonomy name for each asv\n",
    "taxa <- as(tax_table(glom), \"matrix\")\n",
    "taxadf <- as.data.frame(taxa)\n",
    "orderdf <- select(taxadf, V9)\n",
    "orderdf <- orderdf %>%\n",
    "    rownames_to_column(var = \"ASV\")"
   ]
  },
  {
   "cell_type": "code",
   "execution_count": null,
   "id": "6b2f329e-5b68-4e0b-aba5-e5dea8ddbe4e",
   "metadata": {},
   "outputs": [],
   "source": [
    "# rename ASV at species level\n",
    "dat <- as.data.frame(dat)\n",
    "dat <- dat %>% \n",
    "    rownames_to_column(var = \"ASV\")\n",
    "dat <- left_join(dat, orderdf, by=c('ASV'='ASV'))"
   ]
  },
  {
   "cell_type": "code",
   "execution_count": null,
   "id": "39ff17da-f029-4909-9f97-5d8fc70c7a32",
   "metadata": {},
   "outputs": [],
   "source": [
    "rownames(dat) <- paste(dat$V9, dat$ASV, sep=\"_\")\n",
    "dat <- dat[2:(length(dat)-1)] #remove last column\n",
    "dat <- as.matrix(t(dat))\n",
    "head(dat)"
   ]
  },
  {
   "cell_type": "code",
   "execution_count": null,
   "id": "7f4bed50-1566-4db7-8263-ad627d97d119",
   "metadata": {
    "tags": []
   },
   "outputs": [],
   "source": [
    "library(dplyr)\n",
    "# merge new metadata with asv table so the response variable is in the same order\n",
    "datmerge <- merge(dat, map, by.x = \"row.names\", by.y = \"rowname\")\n",
    "datmerge <- datmerge[!duplicated(datmerge[c('Row.names')]), ]\n",
    "row.names(datmerge) <- datmerge$Row.names\n",
    "# define data and response variable\n",
    "dif <- dim(datmerge)[2] - dim(map)[2]\n",
    "x <- datmerge[,2:dif]\n",
    "# make sure only numeric data\n",
    "x <- select_if(x, is.numeric)\n",
    "dim(x)"
   ]
  },
  {
   "cell_type": "code",
   "execution_count": null,
   "id": "d50735bf-d629-413b-b69f-8f7dfe325571",
   "metadata": {},
   "outputs": [],
   "source": [
    "# define response variable \n",
    "y <- as.factor(datmerge$aliquot_type)"
   ]
  },
  {
   "cell_type": "code",
   "execution_count": null,
   "id": "cccf1549-82bb-4698-a41c-87dda91e2ac8",
   "metadata": {},
   "outputs": [],
   "source": [
    "# selbal takes forever and I keep running into errors, trying a different package\n",
    "# install.packages(\"coda4microbiome\")\n",
    "library(coda4microbiome)\n",
    "set.seed(852)"
   ]
  },
  {
   "cell_type": "code",
   "execution_count": null,
   "id": "e7aefe67-7402-40de-b463-3eb219a0fd6f",
   "metadata": {},
   "outputs": [],
   "source": [
    "bal <- coda_glmnet(x, y)\n"
   ]
  },
  {
   "cell_type": "code",
   "execution_count": null,
   "id": "207657c3-b833-4bc1-8ccd-44b674071405",
   "metadata": {},
   "outputs": [],
   "source": [
    "bal$taxa.name"
   ]
  },
  {
   "cell_type": "code",
   "execution_count": null,
   "id": "cbc10998-ca4c-4640-9af2-12ebb54b108f",
   "metadata": {},
   "outputs": [],
   "source": [
    "pdf(\"balance_hcf_v_dcd.pdf\", width = 10, height = 20)\n",
    "bal$`predictions plot`\n",
    "bal$`signature plot`\n",
    "dev.off()"
   ]
  },
  {
   "cell_type": "code",
   "execution_count": null,
   "id": "24fa81d4-4b1d-43ad-b4b9-6dc22a3ea4a7",
   "metadata": {},
   "outputs": [],
   "source": []
  }
 ],
 "metadata": {
  "kernelspec": {
   "display_name": "R",
   "language": "R",
   "name": "ir"
  },
  "language_info": {
   "codemirror_mode": "r",
   "file_extension": ".r",
   "mimetype": "text/x-r-source",
   "name": "R",
   "pygments_lexer": "r",
   "version": "4.1.0"
  }
 },
 "nbformat": 4,
 "nbformat_minor": 5
}
