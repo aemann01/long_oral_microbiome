{
 "cells": [
  {
   "cell_type": "code",
   "execution_count": 1,
   "id": "14a4079e-2525-420b-8723-57cb23f8807c",
   "metadata": {},
   "outputs": [],
   "source": [
    "load(\"master_phyloseq.RData\")"
   ]
  },
  {
   "cell_type": "code",
   "execution_count": 2,
   "id": "dda6f84b-247e-4263-9a62-733a888c4df3",
   "metadata": {},
   "outputs": [
    {
     "name": "stderr",
     "output_type": "stream",
     "text": [
      "Loading required package: phyloseq\n",
      "\n"
     ]
    },
    {
     "data": {
      "text/plain": [
       "phyloseq-class experiment-level object\n",
       "otu_table()   OTU Table:         [ 14111 taxa and 1960 samples ]\n",
       "sample_data() Sample Data:       [ 1960 samples by 26 sample variables ]\n",
       "tax_table()   Taxonomy Table:    [ 14111 taxa by 8 taxonomic ranks ]\n",
       "phy_tree()    Phylogenetic Tree: [ 14111 tips and 14109 internal nodes ]"
      ]
     },
     "metadata": {},
     "output_type": "display_data"
    }
   ],
   "source": [
    "ps.dat"
   ]
  },
  {
   "cell_type": "code",
   "execution_count": 6,
   "id": "623a7155-fb83-4f30-92c2-42b05022c37b",
   "metadata": {},
   "outputs": [
    {
     "data": {
      "text/html": [
       "<style>\n",
       ".list-inline {list-style: none; margin:0; padding: 0}\n",
       ".list-inline>li {display: inline-block}\n",
       ".list-inline>li:not(:last-child)::after {content: \"\\00b7\"; padding: 0 .5ex}\n",
       "</style>\n",
       "<ol class=list-inline><li>'V2'</li><li>'V3'</li><li>'V4'</li><li>'V5'</li><li>'V6'</li><li>'V7'</li><li>'V8'</li><li>'V9'</li></ol>\n"
      ],
      "text/latex": [
       "\\begin{enumerate*}\n",
       "\\item 'V2'\n",
       "\\item 'V3'\n",
       "\\item 'V4'\n",
       "\\item 'V5'\n",
       "\\item 'V6'\n",
       "\\item 'V7'\n",
       "\\item 'V8'\n",
       "\\item 'V9'\n",
       "\\end{enumerate*}\n"
      ],
      "text/markdown": [
       "1. 'V2'\n",
       "2. 'V3'\n",
       "3. 'V4'\n",
       "4. 'V5'\n",
       "5. 'V6'\n",
       "6. 'V7'\n",
       "7. 'V8'\n",
       "8. 'V9'\n",
       "\n",
       "\n"
      ],
      "text/plain": [
       "[1] \"V2\" \"V3\" \"V4\" \"V5\" \"V6\" \"V7\" \"V8\" \"V9\""
      ]
     },
     "metadata": {},
     "output_type": "display_data"
    }
   ],
   "source": [
    "rank_names(ps.dat)\n",
    "glom <- tax_glom(ps.dat, taxrank=rank_names(ps.dat)[7])"
   ]
  },
  {
   "cell_type": "code",
   "execution_count": 7,
   "id": "866e8701-f314-48c3-ae9b-51c6ba53288a",
   "metadata": {},
   "outputs": [
    {
     "data": {
      "text/plain": [
       "phyloseq-class experiment-level object\n",
       "otu_table()   OTU Table:         [ 628 taxa and 1960 samples ]\n",
       "sample_data() Sample Data:       [ 1960 samples by 26 sample variables ]\n",
       "tax_table()   Taxonomy Table:    [ 628 taxa by 8 taxonomic ranks ]\n",
       "phy_tree()    Phylogenetic Tree: [ 628 tips and 627 internal nodes ]"
      ]
     },
     "metadata": {},
     "output_type": "display_data"
    }
   ],
   "source": [
    "glom\n"
   ]
  },
  {
   "cell_type": "code",
   "execution_count": 9,
   "id": "80901c84-78a8-48b6-80ac-33e20437cb18",
   "metadata": {},
   "outputs": [
    {
     "data": {
      "text/html": [
       "<table class=\"dataframe\">\n",
       "<caption>A otu_table: 6 × 628 of type dbl</caption>\n",
       "<thead>\n",
       "\t<tr><th></th><th scope=col>ASV117</th><th scope=col>ASV2862</th><th scope=col>ASV707</th><th scope=col>ASV14822</th><th scope=col>ASV14586</th><th scope=col>ASV267</th><th scope=col>ASV10570</th><th scope=col>ASV208</th><th scope=col>ASV901</th><th scope=col>ASV2825</th><th scope=col>⋯</th><th scope=col>ASV103</th><th scope=col>ASV2059</th><th scope=col>ASV3607</th><th scope=col>ASV571</th><th scope=col>ASV641</th><th scope=col>ASV6582</th><th scope=col>ASV1319</th><th scope=col>ASV2029</th><th scope=col>ASV1681</th><th scope=col>ASV25433</th></tr>\n",
       "</thead>\n",
       "<tbody>\n",
       "\t<tr><th scope=row>DM00001V1PQ</th><td>  83</td><td> 0</td><td> 75</td><td>0</td><td>0</td><td>113</td><td>0</td><td> 0</td><td> 0</td><td>0</td><td>⋯</td><td>0</td><td>0</td><td>0</td><td>0</td><td> 0</td><td>0</td><td> 0</td><td>0</td><td>0</td><td>0</td></tr>\n",
       "\t<tr><th scope=row>DM00001V2PQ16</th><td>3675</td><td>15</td><td> 11</td><td>0</td><td>0</td><td>  6</td><td>0</td><td> 0</td><td> 0</td><td>0</td><td>⋯</td><td>0</td><td>0</td><td>0</td><td>0</td><td> 0</td><td>0</td><td> 0</td><td>0</td><td>0</td><td>0</td></tr>\n",
       "\t<tr><th scope=row>DM00003V3PQ16</th><td> 229</td><td> 0</td><td>136</td><td>0</td><td>0</td><td>  0</td><td>0</td><td> 0</td><td> 0</td><td>0</td><td>⋯</td><td>0</td><td>0</td><td>0</td><td>0</td><td> 0</td><td>0</td><td> 0</td><td>0</td><td>0</td><td>0</td></tr>\n",
       "\t<tr><th scope=row>DM00003V3PQ55</th><td> 402</td><td>61</td><td>264</td><td>0</td><td>0</td><td>  0</td><td>0</td><td> 0</td><td> 0</td><td>0</td><td>⋯</td><td>0</td><td>0</td><td>0</td><td>0</td><td> 0</td><td>0</td><td> 0</td><td>0</td><td>0</td><td>0</td></tr>\n",
       "\t<tr><th scope=row>DM00004V3PQ16</th><td> 350</td><td>73</td><td> 63</td><td>0</td><td>0</td><td> 15</td><td>0</td><td> 0</td><td> 0</td><td>0</td><td>⋯</td><td>0</td><td>0</td><td>0</td><td>0</td><td> 0</td><td>0</td><td> 0</td><td>0</td><td>0</td><td>0</td></tr>\n",
       "\t<tr><th scope=row>DM00005V2PQ16</th><td>   0</td><td> 0</td><td>  0</td><td>0</td><td>0</td><td>238</td><td>0</td><td>25</td><td>26</td><td>0</td><td>⋯</td><td>0</td><td>0</td><td>0</td><td>0</td><td>11</td><td>0</td><td>12</td><td>0</td><td>0</td><td>0</td></tr>\n",
       "</tbody>\n",
       "</table>\n"
      ],
      "text/latex": [
       "A otu\\_table: 6 × 628 of type dbl\n",
       "\\begin{tabular}{r|lllllllllllllllllllll}\n",
       "  & ASV117 & ASV2862 & ASV707 & ASV14822 & ASV14586 & ASV267 & ASV10570 & ASV208 & ASV901 & ASV2825 & ⋯ & ASV103 & ASV2059 & ASV3607 & ASV571 & ASV641 & ASV6582 & ASV1319 & ASV2029 & ASV1681 & ASV25433\\\\\n",
       "\\hline\n",
       "\tDM00001V1PQ &   83 &  0 &  75 & 0 & 0 & 113 & 0 &  0 &  0 & 0 & ⋯ & 0 & 0 & 0 & 0 &  0 & 0 &  0 & 0 & 0 & 0\\\\\n",
       "\tDM00001V2PQ16 & 3675 & 15 &  11 & 0 & 0 &   6 & 0 &  0 &  0 & 0 & ⋯ & 0 & 0 & 0 & 0 &  0 & 0 &  0 & 0 & 0 & 0\\\\\n",
       "\tDM00003V3PQ16 &  229 &  0 & 136 & 0 & 0 &   0 & 0 &  0 &  0 & 0 & ⋯ & 0 & 0 & 0 & 0 &  0 & 0 &  0 & 0 & 0 & 0\\\\\n",
       "\tDM00003V3PQ55 &  402 & 61 & 264 & 0 & 0 &   0 & 0 &  0 &  0 & 0 & ⋯ & 0 & 0 & 0 & 0 &  0 & 0 &  0 & 0 & 0 & 0\\\\\n",
       "\tDM00004V3PQ16 &  350 & 73 &  63 & 0 & 0 &  15 & 0 &  0 &  0 & 0 & ⋯ & 0 & 0 & 0 & 0 &  0 & 0 &  0 & 0 & 0 & 0\\\\\n",
       "\tDM00005V2PQ16 &    0 &  0 &   0 & 0 & 0 & 238 & 0 & 25 & 26 & 0 & ⋯ & 0 & 0 & 0 & 0 & 11 & 0 & 12 & 0 & 0 & 0\\\\\n",
       "\\end{tabular}\n"
      ],
      "text/markdown": [
       "\n",
       "A otu_table: 6 × 628 of type dbl\n",
       "\n",
       "| <!--/--> | ASV117 | ASV2862 | ASV707 | ASV14822 | ASV14586 | ASV267 | ASV10570 | ASV208 | ASV901 | ASV2825 | ⋯ | ASV103 | ASV2059 | ASV3607 | ASV571 | ASV641 | ASV6582 | ASV1319 | ASV2029 | ASV1681 | ASV25433 |\n",
       "|---|---|---|---|---|---|---|---|---|---|---|---|---|---|---|---|---|---|---|---|---|---|\n",
       "| DM00001V1PQ |   83 |  0 |  75 | 0 | 0 | 113 | 0 |  0 |  0 | 0 | ⋯ | 0 | 0 | 0 | 0 |  0 | 0 |  0 | 0 | 0 | 0 |\n",
       "| DM00001V2PQ16 | 3675 | 15 |  11 | 0 | 0 |   6 | 0 |  0 |  0 | 0 | ⋯ | 0 | 0 | 0 | 0 |  0 | 0 |  0 | 0 | 0 | 0 |\n",
       "| DM00003V3PQ16 |  229 |  0 | 136 | 0 | 0 |   0 | 0 |  0 |  0 | 0 | ⋯ | 0 | 0 | 0 | 0 |  0 | 0 |  0 | 0 | 0 | 0 |\n",
       "| DM00003V3PQ55 |  402 | 61 | 264 | 0 | 0 |   0 | 0 |  0 |  0 | 0 | ⋯ | 0 | 0 | 0 | 0 |  0 | 0 |  0 | 0 | 0 | 0 |\n",
       "| DM00004V3PQ16 |  350 | 73 |  63 | 0 | 0 |  15 | 0 |  0 |  0 | 0 | ⋯ | 0 | 0 | 0 | 0 |  0 | 0 |  0 | 0 | 0 | 0 |\n",
       "| DM00005V2PQ16 |    0 |  0 |   0 | 0 | 0 | 238 | 0 | 25 | 26 | 0 | ⋯ | 0 | 0 | 0 | 0 | 11 | 0 | 12 | 0 | 0 | 0 |\n",
       "\n"
      ],
      "text/plain": [
       "              ASV117 ASV2862 ASV707 ASV14822 ASV14586 ASV267 ASV10570 ASV208\n",
       "DM00001V1PQ     83    0       75    0        0        113    0         0    \n",
       "DM00001V2PQ16 3675   15       11    0        0          6    0         0    \n",
       "DM00003V3PQ16  229    0      136    0        0          0    0         0    \n",
       "DM00003V3PQ55  402   61      264    0        0          0    0         0    \n",
       "DM00004V3PQ16  350   73       63    0        0         15    0         0    \n",
       "DM00005V2PQ16    0    0        0    0        0        238    0        25    \n",
       "              ASV901 ASV2825 ⋯ ASV103 ASV2059 ASV3607 ASV571 ASV641 ASV6582\n",
       "DM00001V1PQ    0     0       ⋯ 0      0       0       0       0     0      \n",
       "DM00001V2PQ16  0     0       ⋯ 0      0       0       0       0     0      \n",
       "DM00003V3PQ16  0     0       ⋯ 0      0       0       0       0     0      \n",
       "DM00003V3PQ55  0     0       ⋯ 0      0       0       0       0     0      \n",
       "DM00004V3PQ16  0     0       ⋯ 0      0       0       0       0     0      \n",
       "DM00005V2PQ16 26     0       ⋯ 0      0       0       0      11     0      \n",
       "              ASV1319 ASV2029 ASV1681 ASV25433\n",
       "DM00001V1PQ    0      0       0       0       \n",
       "DM00001V2PQ16  0      0       0       0       \n",
       "DM00003V3PQ16  0      0       0       0       \n",
       "DM00003V3PQ55  0      0       0       0       \n",
       "DM00004V3PQ16  0      0       0       0       \n",
       "DM00005V2PQ16 12      0       0       0       "
      ]
     },
     "metadata": {},
     "output_type": "display_data"
    }
   ],
   "source": [
    "head(otu_table(glom))"
   ]
  },
  {
   "cell_type": "code",
   "execution_count": 10,
   "id": "87924bc3-982c-41a3-b6ee-3173452cedb3",
   "metadata": {},
   "outputs": [],
   "source": [
    "write.table(as.data.frame(otu_table(glom)), \"species_level.asvs.csv\", sep=\",\")"
   ]
  },
  {
   "cell_type": "code",
   "execution_count": 11,
   "id": "1124dfac-3c58-41b2-b99e-281160faf2ad",
   "metadata": {},
   "outputs": [],
   "source": [
    "write.table(as.data.frame(tax_table(glom)), \"species_level.tax.csv\", sep=\",\")"
   ]
  },
  {
   "cell_type": "code",
   "execution_count": null,
   "id": "25187309-e389-4b11-8c8f-17fba8cae8a3",
   "metadata": {},
   "outputs": [],
   "source": []
  }
 ],
 "metadata": {
  "kernelspec": {
   "display_name": "R",
   "language": "R",
   "name": "ir"
  },
  "language_info": {
   "codemirror_mode": "r",
   "file_extension": ".r",
   "mimetype": "text/x-r-source",
   "name": "R",
   "pygments_lexer": "r",
   "version": "4.1.0"
  }
 },
 "nbformat": 4,
 "nbformat_minor": 5
}
