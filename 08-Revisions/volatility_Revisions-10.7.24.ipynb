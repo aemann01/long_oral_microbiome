{
 "cells": [
  {
   "cell_type": "markdown",
   "id": "e5c1ac6e-9421-4d5e-b948-978879888980",
   "metadata": {},
   "source": [
    "## 1. Set up environment, load data"
   ]
  },
  {
   "cell_type": "code",
   "execution_count": 1,
   "id": "6d5aafdd-bb4f-41bd-81e2-d34ef314dbe3",
   "metadata": {},
   "outputs": [
    {
     "name": "stderr",
     "output_type": "stream",
     "text": [
      "Welcome to compositions, a package for compositional data analysis.\n",
      "Find an intro with \"? compositions\"\n",
      "\n",
      "\n",
      "\n",
      "Attaching package: ‘compositions’\n",
      "\n",
      "\n",
      "The following objects are masked from ‘package:stats’:\n",
      "\n",
      "    anova, cor, cov, dist, var\n",
      "\n",
      "\n",
      "The following object is masked from ‘package:graphics’:\n",
      "\n",
      "    segments\n",
      "\n",
      "\n",
      "The following objects are masked from ‘package:base’:\n",
      "\n",
      "    %*%, norm, scale, scale.default\n",
      "\n",
      "\n",
      "\n",
      "Attaching package: ‘tidyr’\n",
      "\n",
      "\n",
      "The following object is masked from ‘package:reshape2’:\n",
      "\n",
      "    smiths\n",
      "\n",
      "\n",
      "\n",
      "Attaching package: ‘dplyr’\n",
      "\n",
      "\n",
      "The following objects are masked from ‘package:stats’:\n",
      "\n",
      "    filter, lag\n",
      "\n",
      "\n",
      "The following objects are masked from ‘package:base’:\n",
      "\n",
      "    intersect, setdiff, setequal, union\n",
      "\n",
      "\n"
     ]
    },
    {
     "data": {
      "text/plain": [
       "phyloseq-class experiment-level object\n",
       "otu_table()   OTU Table:         [ 14111 taxa and 1960 samples ]\n",
       "sample_data() Sample Data:       [ 1960 samples by 26 sample variables ]\n",
       "tax_table()   Taxonomy Table:    [ 14111 taxa by 8 taxonomic ranks ]\n",
       "phy_tree()    Phylogenetic Tree: [ 14111 tips and 14109 internal nodes ]"
      ]
     },
     "metadata": {},
     "output_type": "display_data"
    }
   ],
   "source": [
    "# install.packages(\"compositions\")\n",
    "# install.packages(\"ggdist\")\n",
    "library(phyloseq, verbose=F)\n",
    "library(ggplot2, verbose=F)\n",
    "library(compositions, verbose=F)\n",
    "library(reshape2, verbose=F)\n",
    "library(tidyr, verbose=F)\n",
    "library(dplyr, verbose=F)\n",
    "library(ggdist, verbose=F)\n",
    "library(ggpubr, verbose=F)\n",
    "# load in master phyloseq R data object\n",
    "load(\"../02-diversity/master_phyloseq.RData\")\n",
    "# set up directory to save figures\n",
    "system(\"mkdir img\")\n",
    "# check phyloseq object\n",
    "ps.dat\n",
    "# pull metadata table\n",
    "map <- sample_data(ps.dat)"
   ]
  },
  {
   "cell_type": "markdown",
   "id": "874995f4-f7a0-43ae-98c2-7241ee20c142",
   "metadata": {},
   "source": [
    "## 2. Filter data to include only those teeth with multiple sampling across visits"
   ]
  },
  {
   "cell_type": "code",
   "execution_count": 2,
   "id": "3afc17f5-8524-44dc-87b1-b19352bbdeb0",
   "metadata": {},
   "outputs": [],
   "source": [
    "map$studyID_FDI <- paste(map$study_id, \".\", map$FDI_code, sep=\"\")"
   ]
  },
  {
   "cell_type": "markdown",
   "id": "ce52fb3b-69b6-4179-95a7-8c5ac112ca01",
   "metadata": {},
   "source": [
    "Only looking at visit one to three here"
   ]
  },
  {
   "cell_type": "code",
   "execution_count": 3,
   "id": "60fef260-994d-4296-9254-348f93416514",
   "metadata": {},
   "outputs": [
    {
     "data": {
      "text/html": [
       "<style>\n",
       ".list-inline {list-style: none; margin:0; padding: 0}\n",
       ".list-inline>li {display: inline-block}\n",
       ".list-inline>li:not(:last-child)::after {content: \"\\00b7\"; padding: 0 .5ex}\n",
       "</style>\n",
       "<ol class=list-inline><li>408</li><li>27</li></ol>\n"
      ],
      "text/latex": [
       "\\begin{enumerate*}\n",
       "\\item 408\n",
       "\\item 27\n",
       "\\end{enumerate*}\n"
      ],
      "text/markdown": [
       "1. 408\n",
       "2. 27\n",
       "\n",
       "\n"
      ],
      "text/plain": [
       "[1] 408  27"
      ]
     },
     "metadata": {},
     "output_type": "display_data"
    },
    {
     "data": {
      "text/plain": [
       "Time difference of 400.701 days"
      ]
     },
     "metadata": {},
     "output_type": "display_data"
    }
   ],
   "source": [
    "map.v1v3 <- map[map$visit_num == 1 | map$visit_num == 3,]\n",
    "# count the number of times that a study ID + FDI code appears in the data\n",
    "counts <- data.frame(table(map.v1v3$studyID_FDI))\n",
    "# pull records that occur more than one time\n",
    "map.v1v3 <- map.v1v3[map.v1v3$studyID_FDI %in% counts$Var1[counts$Freq > 1],]\n",
    "# reorder\n",
    "map.v1v3 <- map.v1v3[order(map.v1v3$studyID_FDI),]\n",
    "# number of samples\n",
    "dim(map.v1v3)\n",
    "# make sure you aren't left with singletons, this command should come back as all TRUE\n",
    "# data.frame(table(map.v1v3$studyID_FDI))$Freq == 2\n",
    "\n",
    "# get average number of days between visits\n",
    "# first melt visit date column into a data frame of two columns\n",
    "dates <- as.data.frame(matrix(map.v1v3$visit_date, ncol=2, byrow=TRUE))\n",
    "# average difference between date of visit one and visit two\n",
    "mean(as.Date(as.character(dates$V2), format=\"%m/%d/%Y\")-as.Date(as.character(dates$V1), format=\"%m/%d/%Y\"))"
   ]
  },
  {
   "cell_type": "markdown",
   "id": "9e9e1726-16df-49be-8a1a-e79233f22932",
   "metadata": {},
   "source": [
    "## 3. Volatility analyses"
   ]
  },
  {
   "cell_type": "markdown",
   "id": "7546b3cb-ee7e-4ec6-98d9-9e213d9b6188",
   "metadata": {},
   "source": [
    "Because we have the full range of analyses in the other notebook (volatility.ipynb), only focus on the figures and analyses we want to add in the paper here"
   ]
  },
  {
   "cell_type": "markdown",
   "id": "535794e3-0e49-488b-add3-e913d21e4e7b",
   "metadata": {},
   "source": [
    "### 3.1 All teeth over visit one and three"
   ]
  },
  {
   "cell_type": "code",
   "execution_count": 4,
   "id": "130946a4-3c13-4f8e-9b48-3efca9c77640",
   "metadata": {},
   "outputs": [
    {
     "data": {
      "text/html": [
       "<style>\n",
       ".list-inline {list-style: none; margin:0; padding: 0}\n",
       ".list-inline>li {display: inline-block}\n",
       ".list-inline>li:not(:last-child)::after {content: \"\\00b7\"; padding: 0 .5ex}\n",
       "</style>\n",
       "<ol class=list-inline><li>408</li><li>14111</li></ol>\n"
      ],
      "text/latex": [
       "\\begin{enumerate*}\n",
       "\\item 408\n",
       "\\item 14111\n",
       "\\end{enumerate*}\n"
      ],
      "text/markdown": [
       "1. 408\n",
       "2. 14111\n",
       "\n",
       "\n"
      ],
      "text/plain": [
       "[1]   408 14111"
      ]
     },
     "metadata": {},
     "output_type": "display_data"
    },
    {
     "data": {
      "text/html": [
       "<style>\n",
       ".list-inline {list-style: none; margin:0; padding: 0}\n",
       ".list-inline>li {display: inline-block}\n",
       ".list-inline>li:not(:last-child)::after {content: \"\\00b7\"; padding: 0 .5ex}\n",
       "</style>\n",
       "<ol class=list-inline><li>408</li><li>10945</li></ol>\n"
      ],
      "text/latex": [
       "\\begin{enumerate*}\n",
       "\\item 408\n",
       "\\item 10945\n",
       "\\end{enumerate*}\n"
      ],
      "text/markdown": [
       "1. 408\n",
       "2. 10945\n",
       "\n",
       "\n"
      ],
      "text/plain": [
       "[1]   408 10945"
      ]
     },
     "metadata": {},
     "output_type": "display_data"
    }
   ],
   "source": [
    "counts <- otu_table(ps.dat)[row.names(map.v1v3),]\n",
    "dim(counts)\n",
    "# remove asvs with zero count after filtering\n",
    "counts <- counts[,colSums(counts) > 0]\n",
    "dim(counts)\n",
    "\n",
    "# make sure data is all numeric\n",
    "counts <- apply(counts,c(1,2),function(x) as.numeric(as.character(x)))\n",
    "# perform clr transformation to the data\n",
    "counts.clr <- clr(counts)\n",
    "# distance\n",
    "counts.dist <- dist(counts.clr, method=\"euclidean\")\n",
    "# pca\n",
    "counts.pca <- prcomp(counts.dist)\n",
    "# extract the amount of variance for first four components\n",
    "pc1 <- round(counts.pca$sdev[1]^2/sum(counts.pca$sdev^2),4) * 100\n",
    "pc2 <- round(counts.pca$sdev[2]^2/sum(counts.pca$sdev^2),4) * 100\n",
    "pc3 <- round(counts.pca$sdev[3]^2/sum(counts.pca$sdev^2),4) * 100\n",
    "pc4 <- round(counts.pca$sdev[4]^2/sum(counts.pca$sdev^2),4) * 100\n",
    "\n",
    "# extract scores for each sample for first four components\n",
    "pca <- data.frame(PC1 = counts.pca$x[,1],\n",
    "                  PC2 = counts.pca$x[,2],\n",
    "                  PC3 = counts.pca$x[,3],\n",
    "                  PC4 = counts.pca$x[,4])\n",
    "# add metadata to the pca scores\n",
    "pca$studyID_FDI <- map.v1v3$studyID_FDI # individual tooth identifier\n",
    "pca$hiv_status <- map.v1v3$hiv_status # cohort to split frames\n",
    "pca$hiv_status <- factor(pca$hiv_status, levels=c(\"HI\", \"HEU\", \"HUU\"))\n",
    "pca$tooth_health <- map.v1v3$tooth_health # treatment\n",
    "pca$visit_num <- map.v1v3$visit_num # time point data"
   ]
  },
  {
   "cell_type": "code",
   "execution_count": 5,
   "id": "17a4af1d-4cef-4029-9428-f28b8e6d558b",
   "metadata": {},
   "outputs": [
    {
     "data": {
      "text/html": [
       "<table class=\"dataframe\">\n",
       "<caption>A tibble: 3 × 4</caption>\n",
       "<thead>\n",
       "\t<tr><th scope=col>V2</th><th scope=col>count</th><th scope=col>median</th><th scope=col>SD</th></tr>\n",
       "\t<tr><th scope=col>&lt;chr&gt;</th><th scope=col>&lt;int&gt;</th><th scope=col>&lt;dbl&gt;</th><th scope=col>&lt;dbl&gt;</th></tr>\n",
       "</thead>\n",
       "<tbody>\n",
       "\t<tr><td>HEU</td><td>59</td><td>21.98312</td><td>3.097594</td></tr>\n",
       "\t<tr><td>HI </td><td>74</td><td>22.26461</td><td>4.259307</td></tr>\n",
       "\t<tr><td>HUU</td><td>63</td><td>23.50762</td><td>4.919513</td></tr>\n",
       "</tbody>\n",
       "</table>\n"
      ],
      "text/latex": [
       "A tibble: 3 × 4\n",
       "\\begin{tabular}{llll}\n",
       " V2 & count & median & SD\\\\\n",
       " <chr> & <int> & <dbl> & <dbl>\\\\\n",
       "\\hline\n",
       "\t HEU & 59 & 21.98312 & 3.097594\\\\\n",
       "\t HI  & 74 & 22.26461 & 4.259307\\\\\n",
       "\t HUU & 63 & 23.50762 & 4.919513\\\\\n",
       "\\end{tabular}\n"
      ],
      "text/markdown": [
       "\n",
       "A tibble: 3 × 4\n",
       "\n",
       "| V2 &lt;chr&gt; | count &lt;int&gt; | median &lt;dbl&gt; | SD &lt;dbl&gt; |\n",
       "|---|---|---|---|\n",
       "| HEU | 59 | 21.98312 | 3.097594 |\n",
       "| HI  | 74 | 22.26461 | 4.259307 |\n",
       "| HUU | 63 | 23.50762 | 4.919513 |\n",
       "\n"
      ],
      "text/plain": [
       "  V2  count median   SD      \n",
       "1 HEU 59    21.98312 3.097594\n",
       "2 HI  74    22.26461 4.259307\n",
       "3 HUU 63    23.50762 4.919513"
      ]
     },
     "metadata": {},
     "output_type": "display_data"
    }
   ],
   "source": [
    "# compute volatility -- euclidean distance over CLR transformed count data (aitchison distance between pairs)\n",
    "# first need to melt our distance matrix to get pairs of samples and their distance\n",
    "counts.melt <- melt(as.matrix(counts.dist))\n",
    "# modify sample names in columns\n",
    "counts.melt$Var1 <- gsub(\"V.*PQ\", \".\", counts.melt$Var1)\n",
    "counts.melt$Var2 <- gsub(\"V.*PQ\", \".\", counts.melt$Var2)\n",
    "# clean up data\n",
    "counts.melt <- counts.melt[counts.melt$value != 0, ]\n",
    "counts.melt$match <- ifelse(counts.melt$Var1 == counts.melt$Var2, \"TRUE\", \"FALSE\")\n",
    "# get only those that are duplicated samples, clean up again\n",
    "matches <- counts.melt[counts.melt$match == \"TRUE\",]\n",
    "matches <- as.data.frame(matches[,-2])\n",
    "matches <- matches[!duplicated(matches),]\n",
    "\n",
    "# get temporary metadata file to merge in with your distance metrics\n",
    "temp <- as.data.frame(cbind(map.v1v3$studyID_FDI, map.v1v3$hiv_status))\n",
    "temp <- temp[!duplicated(temp),]\n",
    "# final dataframe\n",
    "dist_diff <- merge(x=matches, y=temp, by.x=\"Var1\", by.y=\"V1\")\n",
    "\n",
    "# some summary statistics on these distances\n",
    "group_by(dist_diff, V2) %>%\n",
    "  summarise(\n",
    "    count = n(),\n",
    "    median = median(value, na.rm = TRUE),\n",
    "    SD = sd(value, na.rm = TRUE)\n",
    ")"
   ]
  },
  {
   "cell_type": "code",
   "execution_count": 6,
   "id": "10e38d19-d306-43b3-b9f5-9c6c77307426",
   "metadata": {},
   "outputs": [
    {
     "name": "stderr",
     "output_type": "stream",
     "text": [
      "Warning message:\n",
      "“\u001b[1m\u001b[22mUsing `size` aesthetic for lines was deprecated in ggplot2 3.4.0.\n",
      "\u001b[36mℹ\u001b[39m Please use `linewidth` instead.”\n",
      "\u001b[1m\u001b[22mScale for \u001b[32my\u001b[39m is already present.\n",
      "Adding another scale for \u001b[32my\u001b[39m, which will replace the existing scale.\n",
      "Warning message:\n",
      "“\u001b[1m\u001b[22mThe dot-dot notation (`..count..`) was deprecated in ggplot2 3.4.0.\n",
      "\u001b[36mℹ\u001b[39m Please use `after_stat(count)` instead.”\n",
      "Warning message:\n",
      "“\u001b[1m\u001b[22mUse of `avg_values$avg_value` is discouraged.\n",
      "\u001b[36mℹ\u001b[39m Use `avg_value` instead.”\n",
      "Warning message:\n",
      "“\u001b[1m\u001b[22mUse of `avg_values$avg_value` is discouraged.\n",
      "\u001b[36mℹ\u001b[39m Use `avg_value` instead.”\n"
     ]
    },
    {
     "data": {
      "text/html": [
       "<strong>png:</strong> 2"
      ],
      "text/latex": [
       "\\textbf{png:} 2"
      ],
      "text/markdown": [
       "**png:** 2"
      ],
      "text/plain": [
       "png \n",
       "  2 "
      ]
     },
     "metadata": {},
     "output_type": "display_data"
    },
    {
     "data": {
      "image/png": "[encoded data removed]",
      "text/plain": [
       "plot without title"
      ]
     },
     "metadata": {
      "image/png": {
       "height": 300,
       "width": 480
      }
     },
     "output_type": "display_data"
    }
   ],
   "source": [
    "## UPDATE: Want to get a figure that illustrates the degree of change and frequency of specific types of change for each group\n",
    "temp <- as_tibble(map.v1v3[map.v1v3$hiv_status == \"HI\",])\n",
    "temp <- temp %>%\n",
    "    select(studyID_FDI, visit_num, tooth_health) %>%\n",
    "    pivot_wider(names_from=visit_num, values_from=tooth_health) \n",
    "colnames(temp) <- c(\"studyID_FDI\", \"visit1\", \"visit3\")\n",
    "temp$change <- paste(temp$visit1, \"to\", temp$visit3, sep=\"_\")\n",
    "temp <- na.omit(temp)\n",
    "temp <- temp %>% filter_all(all_vars(. !=\"NULL\"))\n",
    "\n",
    "# merge with change info\n",
    "changelist <- merge(x=dist_diff, y=temp, by.x=\"Var1\", by.y=\"studyID_FDI\")\n",
    "# as.factor(changelist$change)\n",
    "##### for figure clarity, collapse all change variables \n",
    "changelist <- changelist %>%\n",
    "                mutate(change = recode(change,\n",
    "                       'D_to_D' = 'No change disease',\n",
    "                       'D_to_H' = 'Changed health state',\n",
    "                       'E_to_D' = 'Changed health state',\n",
    "                       'E_to_E' = 'No change disease',\n",
    "                       'E_to_H' = 'Changed health state',\n",
    "                       'H_to_D' = 'Changed health state',\n",
    "                       'H_to_E' = 'Changed health state',\n",
    "                       'H_to_H' = 'No change healthy'))\n",
    "\n",
    "# head(changelist)\n",
    "changelist$change <- factor(changelist$change, levels=c(\"Changed health state\", \"No change disease\", \"No change healthy\"))\n",
    "\n",
    "# Load necessary libraries\n",
    "library(ggplot2)\n",
    "library(dplyr)\n",
    "\n",
    "df <- changelist\n",
    "\n",
    "# Calculate the average 'value' for each 'change' group\n",
    "avg_values <- df %>%\n",
    "  group_by(change) %>%\n",
    "  summarise(avg_value = mean(value))\n",
    "\n",
    "# Calculate global average value\n",
    "global_avg_value <- mean(df$value)\n",
    "\n",
    "# Calculate total counts for proportions\n",
    "total_count <- nrow(df)\n",
    "\n",
    "# spread out so we can see x axis more  \n",
    "options(repr.plot.width = 8, repr.plot.height =5)\n",
    "\n",
    "# Plot the proportion bar chart and overlay the line for average values, then flip coordinates\n",
    "p <- ggplot(df, aes(x = change)) +\n",
    "  # Bar chart for proportion of 'change'\n",
    "  geom_bar(aes(y = ..count.. / total_count), stat = \"count\", fill = \"#8213A0\") +\n",
    "  \n",
    "# \"HI\"=\"#8213A0\", \"HEU\"=\"#FA78FA\", \"HUU\"=\"#40A0FA\"\n",
    "\n",
    "  # Line graph for scaled average 'value'\n",
    "  geom_line(data = avg_values, aes(x = change, y = avg_value / max(avg_value), group = 1), \n",
    "            color = \"red\", linewidth = 1) +\n",
    "  geom_point(data = avg_values, aes(x = change, y = avg_value / max(avg_value)), \n",
    "             color = \"red\", size = 2) +\n",
    "    # Add line for global average\n",
    "  geom_hline(yintercept = global_avg_value / max(avg_values$avg_value), \n",
    "             linetype = \"dashed\", color = \"blue\", size = 1) +\n",
    "\n",
    "  # Add labels with boxes to average points, offset so they don't cover the points\n",
    "  geom_label(data = avg_values, \n",
    "             aes(x = change, \n",
    "                 y = avg_value / max(avg_values$avg_value), \n",
    "                 label = round(avg_value, 1)),  # Round to 1 decimal place\n",
    "             nudge_y = 0.05,  # Offset vertically\n",
    "             label.size = 0.5,  # Thickness of the box\n",
    "             fill = \"white\",  # Background color of the box\n",
    "             color = \"black\") +  # Color of the text\n",
    "             \n",
    "\n",
    "  \n",
    "  # Labels and title\n",
    "  labs(y = \"Proportion / Scaled Average Value\", \n",
    "       title = \"Proportion of 'change' with Scaled Average 'value' and Global Average\") +\n",
    "  \n",
    "  # Set limits for the primary y-axis (proportions)\n",
    "  ylim(0, 1) +  # Adjust this if necessary\n",
    "  \n",
    "  # Secondary y-axis for the line plot (showing the original scale of avg_value)\n",
    "  scale_y_continuous(\n",
    "    sec.axis = sec_axis(~ . * max(avg_values$avg_value), name = \"Average Value\"),\n",
    "    name = \"Proportion\"\n",
    "  ) +\n",
    "  \n",
    "  # Flip the coordinates to make horizontal bars\n",
    "  coord_flip() +\n",
    "  \n",
    "  theme_minimal()\n",
    "\n",
    "p\n",
    "\n",
    "pdf(\"newvol_plot.HI.pdf\")\n",
    "p\n",
    "dev.off()"
   ]
  },
  {
   "cell_type": "code",
   "execution_count": 7,
   "id": "3631da5a-2b85-4c8f-b934-1c53a5c54ab0",
   "metadata": {},
   "outputs": [
    {
     "name": "stderr",
     "output_type": "stream",
     "text": [
      "\u001b[1m\u001b[22mScale for \u001b[32my\u001b[39m is already present.\n",
      "Adding another scale for \u001b[32my\u001b[39m, which will replace the existing scale.\n",
      "Warning message:\n",
      "“\u001b[1m\u001b[22mUse of `avg_values$avg_value` is discouraged.\n",
      "\u001b[36mℹ\u001b[39m Use `avg_value` instead.”\n",
      "Warning message:\n",
      "“\u001b[1m\u001b[22mUse of `avg_values$avg_value` is discouraged.\n",
      "\u001b[36mℹ\u001b[39m Use `avg_value` instead.”\n"
     ]
    },
    {
     "data": {
      "text/html": [
       "<strong>png:</strong> 2"
      ],
      "text/latex": [
       "\\textbf{png:} 2"
      ],
      "text/markdown": [
       "**png:** 2"
      ],
      "text/plain": [
       "png \n",
       "  2 "
      ]
     },
     "metadata": {},
     "output_type": "display_data"
    },
    {
     "data": {
      "image/png": "[encoded data removed]",
      "text/plain": [
       "plot without title"
      ]
     },
     "metadata": {
      "image/png": {
       "height": 300,
       "width": 480
      }
     },
     "output_type": "display_data"
    }
   ],
   "source": [
    "temp <- as_tibble(map.v1v3[map.v1v3$hiv_status == \"HEU\",])\n",
    "temp <- temp %>%\n",
    "    select(studyID_FDI, visit_num, tooth_health) %>%\n",
    "    pivot_wider(names_from=visit_num, values_from=tooth_health) \n",
    "colnames(temp) <- c(\"studyID_FDI\", \"visit1\", \"visit3\")\n",
    "temp$change <- paste(temp$visit1, \"to\", temp$visit3, sep=\"_\")\n",
    "temp <- na.omit(temp)\n",
    "temp <- temp %>% filter_all(all_vars(. !=\"NULL\"))\n",
    "\n",
    "# merge with change info\n",
    "changelist <- merge(x=dist_diff, y=temp, by.x=\"Var1\", by.y=\"studyID_FDI\")\n",
    "# as.factor(changelist$change)\n",
    "##### for figure clarity, collapse all change variables \n",
    "changelist <- changelist %>%\n",
    "                mutate(change = recode(change,\n",
    "                       'D_to_D' = 'No change disease',\n",
    "                       'D_to_H' = 'Changed health state',\n",
    "                       'E_to_D' = 'Changed health state',\n",
    "                       'E_to_E' = 'No change disease',\n",
    "                       'E_to_H' = 'Changed health state',\n",
    "                       'H_to_D' = 'Changed health state',\n",
    "                       'H_to_E' = 'Changed health state',\n",
    "                       'H_to_H' = 'No change healthy'))\n",
    "\n",
    "# head(changelist)\n",
    "changelist$change <- factor(changelist$change, levels=c(\"Changed health state\", \"No change disease\", \"No change healthy\"))\n",
    "\n",
    "# Load necessary libraries\n",
    "library(ggplot2)\n",
    "library(dplyr)\n",
    "\n",
    "df <- changelist\n",
    "\n",
    "# Calculate the average 'value' for each 'change' group\n",
    "avg_values <- df %>%\n",
    "  group_by(change) %>%\n",
    "  summarise(avg_value = mean(value))\n",
    "\n",
    "# Calculate global average value\n",
    "global_avg_value <- mean(df$value)\n",
    "\n",
    "# Calculate total counts for proportions\n",
    "total_count <- nrow(df)\n",
    "\n",
    "# spread out so we can see x axis more  \n",
    "options(repr.plot.width = 8, repr.plot.height =5)\n",
    "\n",
    "# Plot the proportion bar chart and overlay the line for average values, then flip coordinates\n",
    "p <- ggplot(df, aes(x = change)) +\n",
    "  # Bar chart for proportion of 'change'\n",
    "  geom_bar(aes(y = ..count.. / total_count), stat = \"count\", fill = \"#FA78FA\") +\n",
    "  \n",
    "# \"HI\"=\"#8213A0\", \"HEU\"=\"#FA78FA\", \"HUU\"=\"#40A0FA\"\n",
    "\n",
    "\n",
    "  # Line graph for scaled average 'value'\n",
    "  geom_line(data = avg_values, aes(x = change, y = avg_value / max(avg_value), group = 1), \n",
    "            color = \"red\", linewidth = 1) +\n",
    "  geom_point(data = avg_values, aes(x = change, y = avg_value / max(avg_value)), \n",
    "             color = \"red\", size = 2) +\n",
    "    # Add line for global average\n",
    "  geom_hline(yintercept = global_avg_value / max(avg_values$avg_value), \n",
    "             linetype = \"dashed\", color = \"blue\", size = 1) +\n",
    "\n",
    "  # Add labels with boxes to average points, offset so they don't cover the points\n",
    "  geom_label(data = avg_values, \n",
    "             aes(x = change, \n",
    "                 y = avg_value / max(avg_values$avg_value), \n",
    "                 label = round(avg_value, 1)),  # Round to 1 decimal place\n",
    "             nudge_y = 0.05,  # Offset vertically\n",
    "             label.size = 0.5,  # Thickness of the box\n",
    "             fill = \"white\",  # Background color of the box\n",
    "             color = \"black\") +  # Color of the text\n",
    "             \n",
    "\n",
    "  \n",
    "  # Labels and title\n",
    "  labs(y = \"Proportion / Scaled Average Value\", \n",
    "       title = \"Proportion of 'change' with Scaled Average 'value' and Global Average\") +\n",
    "  \n",
    "  # Set limits for the primary y-axis (proportions)\n",
    "  ylim(0, 1) +  # Adjust this if necessary\n",
    "  \n",
    "  # Secondary y-axis for the line plot (showing the original scale of avg_value)\n",
    "  scale_y_continuous(\n",
    "    sec.axis = sec_axis(~ . * max(avg_values$avg_value), name = \"Average Value\"),\n",
    "    name = \"Proportion\"\n",
    "  ) +\n",
    "  \n",
    "  # Flip the coordinates to make horizontal bars\n",
    "  coord_flip() +\n",
    "  \n",
    "  theme_minimal()\n",
    "\n",
    "p\n",
    "\n",
    "pdf(\"newvol_plot.HEU.pdf\")\n",
    "p\n",
    "dev.off()"
   ]
  },
  {
   "cell_type": "code",
   "execution_count": 8,
   "id": "736a6dbf-0655-4bce-9191-1b05efcace0c",
   "metadata": {},
   "outputs": [
    {
     "name": "stderr",
     "output_type": "stream",
     "text": [
      "Warning message:\n",
      "“\u001b[1m\u001b[22mValues from `tooth_health` are not uniquely identified; output will contain\n",
      "list-cols.\n",
      "\u001b[36m•\u001b[39m Use `values_fn = list` to suppress this warning.\n",
      "\u001b[36m•\u001b[39m Use `values_fn = {summary_fun}` to summarise duplicates.\n",
      "\u001b[36m•\u001b[39m Use the following dplyr code to identify duplicates.\n",
      "  {data} |>\n",
      "  dplyr::summarise(n = dplyr::n(), .by = c(studyID_FDI, visit_num)) |>\n",
      "  dplyr::filter(n > 1L)”\n",
      "\u001b[1m\u001b[22mScale for \u001b[32my\u001b[39m is already present.\n",
      "Adding another scale for \u001b[32my\u001b[39m, which will replace the existing scale.\n",
      "Warning message:\n",
      "“\u001b[1m\u001b[22mUse of `avg_values$avg_value` is discouraged.\n",
      "\u001b[36mℹ\u001b[39m Use `avg_value` instead.”\n",
      "Warning message:\n",
      "“\u001b[1m\u001b[22mUse of `avg_values$avg_value` is discouraged.\n",
      "\u001b[36mℹ\u001b[39m Use `avg_value` instead.”\n"
     ]
    },
    {
     "data": {
      "text/html": [
       "<strong>png:</strong> 2"
      ],
      "text/latex": [
       "\\textbf{png:} 2"
      ],
      "text/markdown": [
       "**png:** 2"
      ],
      "text/plain": [
       "png \n",
       "  2 "
      ]
     },
     "metadata": {},
     "output_type": "display_data"
    },
    {
     "data": {
      "image/png": "[encoded data removed]",
      "text/plain": [
       "plot without title"
      ]
     },
     "metadata": {
      "image/png": {
       "height": 300,
       "width": 480
      }
     },
     "output_type": "display_data"
    }
   ],
   "source": [
    "temp <- as_tibble(map.v1v3[map.v1v3$hiv_status == \"HUU\",])\n",
    "temp <- temp %>%\n",
    "    select(studyID_FDI, visit_num, tooth_health) %>%\n",
    "    pivot_wider(names_from=visit_num, values_from=tooth_health) \n",
    "colnames(temp) <- c(\"studyID_FDI\", \"visit1\", \"visit3\")\n",
    "temp$change <- paste(temp$visit1, \"to\", temp$visit3, sep=\"_\")\n",
    "temp <- na.omit(temp)\n",
    "temp <- temp %>% filter_all(all_vars(. !=\"NULL\"))\n",
    "\n",
    "# merge with change info\n",
    "changelist <- merge(x=dist_diff, y=temp, by.x=\"Var1\", by.y=\"studyID_FDI\")\n",
    "# as.factor(changelist$change)\n",
    "##### for figure clarity, collapse all change variables \n",
    "changelist <- changelist %>%\n",
    "                mutate(change = recode(change,\n",
    "                       'D_to_D' = 'No change disease',\n",
    "                       'D_to_H' = 'Changed health state',\n",
    "                       'E_to_D' = 'Changed health state',\n",
    "                       'E_to_E' = 'No change disease',\n",
    "                       'E_to_H' = 'Changed health state',\n",
    "                       'H_to_D' = 'Changed health state',\n",
    "                       'H_to_E' = 'Changed health state',\n",
    "                       'H_to_H' = 'No change healthy'))\n",
    "\n",
    "# head(changelist)\n",
    "changelist$change <- factor(changelist$change, levels=c(\"Changed health state\", \"No change disease\", \"No change healthy\"))\n",
    "\n",
    "# Load necessary libraries\n",
    "library(ggplot2)\n",
    "library(dplyr)\n",
    "\n",
    "df <- changelist\n",
    "\n",
    "# Calculate the average 'value' for each 'change' group\n",
    "avg_values <- df %>%\n",
    "  group_by(change) %>%\n",
    "  summarise(avg_value = mean(value))\n",
    "\n",
    "# Calculate global average value\n",
    "global_avg_value <- mean(df$value)\n",
    "\n",
    "# Calculate total counts for proportions\n",
    "total_count <- nrow(df)\n",
    "\n",
    "# spread out so we can see x axis more  \n",
    "options(repr.plot.width = 8, repr.plot.height =5)\n",
    "\n",
    "# Plot the proportion bar chart and overlay the line for average values, then flip coordinates\n",
    "p <- ggplot(df, aes(x = change)) +\n",
    "  # Bar chart for proportion of 'change'\n",
    "  geom_bar(aes(y = ..count.. / total_count), stat = \"count\", fill = \"#40A0FA\") +\n",
    "  \n",
    "# \"HI\"=\"#8213A0\", \"HEU\"=\"#FA78FA\", \"HUU\"=\"#40A0FA\"\n",
    "\n",
    "\n",
    "  # Line graph for scaled average 'value'\n",
    "  geom_line(data = avg_values, aes(x = change, y = avg_value / max(avg_value), group = 1), \n",
    "            color = \"red\", linewidth = 1) +\n",
    "  geom_point(data = avg_values, aes(x = change, y = avg_value / max(avg_value)), \n",
    "             color = \"red\", size = 2) +\n",
    "    # Add line for global average\n",
    "  geom_hline(yintercept = global_avg_value / max(avg_values$avg_value), \n",
    "             linetype = \"dashed\", color = \"blue\", size = 1) +\n",
    "\n",
    "  # Add labels with boxes to average points, offset so they don't cover the points\n",
    "  geom_label(data = avg_values, \n",
    "             aes(x = change, \n",
    "                 y = avg_value / max(avg_values$avg_value), \n",
    "                 label = round(avg_value, 1)),  # Round to 1 decimal place\n",
    "             nudge_y = 0.05,  # Offset vertically\n",
    "             label.size = 0.5,  # Thickness of the box\n",
    "             fill = \"white\",  # Background color of the box\n",
    "             color = \"black\") +  # Color of the text\n",
    "             \n",
    "\n",
    "  \n",
    "  # Labels and title\n",
    "  labs(y = \"Proportion / Scaled Average Value\", \n",
    "       title = \"Proportion of 'change' with Scaled Average 'value' and Global Average\") +\n",
    "  \n",
    "  # Set limits for the primary y-axis (proportions)\n",
    "  ylim(0, 1) +  # Adjust this if necessary\n",
    "  \n",
    "  # Secondary y-axis for the line plot (showing the original scale of avg_value)\n",
    "  scale_y_continuous(\n",
    "    sec.axis = sec_axis(~ . * max(avg_values$avg_value), name = \"Average Value\"),\n",
    "    name = \"Proportion\"\n",
    "  ) +\n",
    "  \n",
    "  # Flip the coordinates to make horizontal bars\n",
    "  coord_flip() +\n",
    "  \n",
    "  theme_minimal()\n",
    "\n",
    "p\n",
    "pdf(\"newvol_plot.HUU.pdf\")\n",
    "p\n",
    "dev.off()"
   ]
  },
  {
   "cell_type": "code",
   "execution_count": null,
   "id": "f17ab7fc-e6bb-42a3-b71c-9fba5a2316ac",
   "metadata": {},
   "outputs": [],
   "source": []
  }
 ],
 "metadata": {
  "kernelspec": {
   "display_name": "R",
   "language": "R",
   "name": "ir"
  },
  "language_info": {
   "codemirror_mode": "r",
   "file_extension": ".r",
   "mimetype": "text/x-r-source",
   "name": "R",
   "pygments_lexer": "r",
   "version": "4.1.0"
  }
 },
 "nbformat": 4,
 "nbformat_minor": 5
}
