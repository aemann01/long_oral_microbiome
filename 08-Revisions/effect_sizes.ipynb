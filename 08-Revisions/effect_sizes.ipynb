{
 "cells": [
  {
   "cell_type": "code",
   "execution_count": null,
   "id": "707c4c09",
   "metadata": {},
   "outputs": [],
   "source": [
    "install.packages(\"effectsizes\")"
   ]
  },
  {
   "cell_type": "code",
   "execution_count": null,
   "id": "bad55eba",
   "metadata": {},
   "outputs": [],
   "source": []
  }
 ],
 "metadata": {
  "kernelspec": {
   "display_name": "R",
   "language": "R",
   "name": "ir"
  }
 },
 "nbformat": 4,
 "nbformat_minor": 5
}
